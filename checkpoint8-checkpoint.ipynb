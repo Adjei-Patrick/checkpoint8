{
 "cells": [
  {
   "cell_type": "code",
   "execution_count": 15,
   "id": "e6bb90d2",
   "metadata": {},
   "outputs": [
    {
     "data": {
      "text/plain": [
       "'What is Python language?                                                \\nPython is a widely used high-level, general-purpose, interpreted, dynamic programming language.Its design philosophy emphasizes code readability, and its syntax allows programmers to express concepts in fewer lines of code than possible in \\nlanguages such as C++ or Java. \\nPython supports multiple programming paradigms, including object-oriented, imperative and functional programming or procedural styles. It features a dynamic type system and automatic memory management and has a large and comprehensive standard library.The best way we learn anything is by practice and exercise questions. We  have started this section for those (beginner to intermediate) who are familiar with Python.'"
      ]
     },
     "execution_count": 15,
     "metadata": {},
     "output_type": "execute_result"
    }
   ],
   "source": [
    "#écrire un programme python pour lire un fichier texte en entier\n",
    "\n",
    "fich =open(\"python.txt\", 'r', encoding = 'utf-8')\n",
    "fich.read()\n"
   ]
  },
  {
   "cell_type": "code",
   "execution_count": 41,
   "id": "d22d8833",
   "metadata": {},
   "outputs": [
    {
     "name": "stdout",
     "output_type": "stream",
     "text": [
      "What is Python language?                                                \n",
      "\n",
      "Python is a widely used high-level, general-purpose, interpreted, dynamic programming language.Its design philosophy emphasizes code readability, and its syntax allows programmers to express concepts in fewer lines of code than possible in \n",
      "\n",
      "languages such as C++ or Java. \n",
      "\n"
     ]
    }
   ],
   "source": [
    "# écrire un programme python pour lire les n premiers lignes\n",
    "def lecture(n):\n",
    "    fich = open(\"python.txt\", 'r', encoding = 'utf-8')\n",
    "    c = 0\n",
    "    for line in fich:\n",
    "        if c < n:\n",
    "            c = c + 1\n",
    "            print(line)\n",
    "(lecture(3))\n"
   ]
  },
  {
   "cell_type": "code",
   "execution_count": 2,
   "id": "cf6cc218",
   "metadata": {},
   "outputs": [
    {
     "name": "stdout",
     "output_type": "stream",
     "text": [
      "entrer un un nombre entier: 2\n"
     ]
    },
    {
     "data": {
      "text/plain": [
       "['languages such as C++ or Java. \\n',\n",
       " 'Python supports multiple programming paradigms, including object-oriented, imperative and functional programming or procedural styles. It features a dynamic type system and automatic memory management and has a large and comprehensive standard library.The best way we learn anything is by practice and exercise questions. We  have started this section for those (beginner to intermediate) who are familiar with Python.']"
      ]
     },
     "execution_count": 2,
     "metadata": {},
     "output_type": "execute_result"
    }
   ],
   "source": [
    "#écrire un programme pour lire les n dernières lignes d'un fichier\n",
    "n = int(input(\"entrer un un nombre entier: \"))\n",
    "def lecture(n):\n",
    "    fich = open(\"python.txt\", 'r', encoding = 'utf-8')\n",
    "    return fich.readlines()[-n:]\n",
    "        \n",
    "lecture(n)"
   ]
  },
  {
   "cell_type": "code",
   "execution_count": 4,
   "id": "f6ffa377",
   "metadata": {},
   "outputs": [
    {
     "name": "stdout",
     "output_type": "stream",
     "text": [
      "100\n"
     ]
    }
   ],
   "source": [
    "# écrivez un programme Python qui prend un fichier texte comme entrée et renvoie le nombre de mots d’un fichier texte donné.\n",
    "fich = open(\"python.txt\", \"r\", encoding = \"utf-8\")\n",
    "b = fich.read()\n",
    "a= b.split()\n",
    "\n",
    "print(len(a))\n"
   ]
  }
 ],
 "metadata": {
  "kernelspec": {
   "display_name": "Python 3 (ipykernel)",
   "language": "python",
   "name": "python3"
  },
  "language_info": {
   "codemirror_mode": {
    "name": "ipython",
    "version": 3
   },
   "file_extension": ".py",
   "mimetype": "text/x-python",
   "name": "python",
   "nbconvert_exporter": "python",
   "pygments_lexer": "ipython3",
   "version": "3.9.7"
  }
 },
 "nbformat": 4,
 "nbformat_minor": 5
}
